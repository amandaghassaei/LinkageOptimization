{
 "metadata": {
  "name": "",
  "signature": "sha256:eff4f63a3c30287e20de3643b23796a4ad3969d7f4d487d36a03e7a7eec60667"
 },
 "nbformat": 3,
 "nbformat_minor": 0,
 "worksheets": [
  {
   "cells": [
    {
     "cell_type": "code",
     "collapsed": false,
     "input": [
      "import numpy as np\n",
      "import json\n",
      "\n",
      "import matplotlib.pyplot as plt\n",
      "%matplotlib inline \n",
      "\n",
      "# special matplotlib argument for improved plots\n",
      "from matplotlib import rcParams\n",
      "\n",
      "#colorbrewer2 Dark2 qualitative color table\n",
      "dark2_colors = [(0.10588235294117647, 0.6196078431372549, 0.4666666666666667),\n",
      "                (0.8509803921568627, 0.37254901960784315, 0.00784313725490196),\n",
      "                (0.4588235294117647, 0.4392156862745098, 0.7019607843137254),\n",
      "                (0.9058823529411765, 0.1607843137254902, 0.5411764705882353),\n",
      "                (0.4, 0.6509803921568628, 0.11764705882352941),\n",
      "                (0.9019607843137255, 0.6705882352941176, 0.00784313725490196),\n",
      "                (0.6509803921568628, 0.4627450980392157, 0.11372549019607843)]\n",
      "\n",
      "rcParams['figure.figsize'] = (10, 6)\n",
      "rcParams['figure.dpi'] = 150\n",
      "rcParams['axes.color_cycle'] = dark2_colors\n",
      "rcParams['lines.linewidth'] = 2\n",
      "rcParams['axes.facecolor'] = 'white'\n",
      "rcParams['font.size'] = 14\n",
      "rcParams['patch.edgecolor'] = 'white'\n",
      "rcParams['patch.facecolor'] = dark2_colors[0]\n",
      "rcParams['font.family'] = 'StixGeneral'\n",
      "\n",
      "def remove_border(axes=None, top=False, right=False, left=True, bottom=True):\n",
      "    \"\"\"\n",
      "    Minimize chartjunk by stripping out unnecesary plot borders and axis ticks\n",
      "    \n",
      "    The top/right/left/bottom keywords toggle whether the corresponding plot border is drawn\n",
      "    \"\"\"\n",
      "    ax = axes or plt.gca()\n",
      "    ax.spines['top'].set_visible(top)\n",
      "    ax.spines['right'].set_visible(right)\n",
      "    ax.spines['left'].set_visible(left)\n",
      "    ax.spines['bottom'].set_visible(bottom)\n",
      "    \n",
      "    #turn off all ticks\n",
      "    ax.yaxis.set_ticks_position('none')\n",
      "    ax.xaxis.set_ticks_position('none')\n",
      "    \n",
      "    #now re-enable visibles\n",
      "    if top:\n",
      "        ax.xaxis.tick_top()\n",
      "    if bottom:\n",
      "        ax.xaxis.tick_bottom()\n",
      "    if left:\n",
      "        ax.yaxis.tick_left()\n",
      "    if right:\n",
      "        ax.yaxis.tick_right()"
     ],
     "language": "python",
     "metadata": {},
     "outputs": [],
     "prompt_number": 2
    },
    {
     "cell_type": "code",
     "collapsed": false,
     "input": [
      "run_stats = json.loads('{\"numGenerations\":3,\"mutationRatePercent\":5,\"populationSize\":20,\"isHillClimbing\":true,\"minLinkLength\":5,\"maxLinkChangePercent\":25,\"data\":[{\"minFitness\":397.29301419019833,\"maxFitness\":413.33733747351954,\"avgFitness\":405.31517583185894,\"bestLinkage\":{\"hinges\":[{\"position\":{\"x\":17.26961436340427,\"y\":30.083373490970267},\"static\":false},{\"position\":{\"x\":0.8004853201903664,\"y\":37.367678117414144},\"static\":false},{\"position\":{\"x\":-9.851762090605524,\"y\":-1.8201615334290728},\"static\":false},{\"position\":{\"x\":14,\"y\":2},\"static\":true},{\"position\":{\"x\":-20,\"y\":-2},\"static\":true}],\"links\":[{\"hinges\":[0,2],\"length\":42.7009937693162},{\"hinges\":[3,0],\"length\":28.0178514522438},{\"hinges\":[1,0],\"length\":18.027756377319946},{\"hinges\":[1,2],\"length\":41.23105625617661},{\"hinges\":[2,4],\"length\":10.198039027185569}],\"driveCrank\":{\"centerHinge\":4,\"outsideHinge\":2,\"length\":10.198039027185569}}},{\"minFitness\":100,\"maxFitness\":100,\"avgFitness\":100,\"bestLinkage\":{\"hinges\":[{\"position\":{\"x\":17.26961436340427,\"y\":30.083373490970267},\"static\":false},{\"position\":{\"x\":0.8004853201903664,\"y\":37.367678117414144},\"static\":false},{\"position\":{\"x\":-9.851762090605524,\"y\":-1.8201615334290728},\"static\":false},{\"position\":{\"x\":14,\"y\":2},\"static\":true},{\"position\":{\"x\":-20,\"y\":-2},\"static\":true}],\"links\":[{\"hinges\":[0,2],\"length\":42.7009937693162},{\"hinges\":[3,0],\"length\":28.0178514522438},{\"hinges\":[1,0],\"length\":18.027756377319946},{\"hinges\":[1,2],\"length\":41.23105625617661},{\"hinges\":[2,4],\"length\":10.198039027185569}],\"driveCrank\":{\"centerHinge\":4,\"outsideHinge\":2,\"length\":10.198039027185569}}},{\"minFitness\":413.1128353277978,\"maxFitness\":421.4905440369261,\"avgFitness\":417.30168968236194,\"bestLinkage\":{\"hinges\":[{\"position\":{\"x\":14.0487175717693,\"y\":30.314380850966273},\"static\":false},{\"position\":{\"x\":-2.527615439972841,\"y\":37.3543112245806},\"static\":false},{\"position\":{\"x\":-10.035164143999369,\"y\":-3.7747521925272953},\"static\":false},{\"position\":{\"x\":14,\"y\":2},\"static\":true},{\"position\":{\"x\":-20,\"y\":-2},\"static\":true}],\"links\":[{\"hinges\":[0,2],\"length\":42.7009937693162},{\"hinges\":[3,0],\"length\":28.0178514522438},{\"hinges\":[1,0],\"length\":18.027756377319946},{\"hinges\":[1,2],\"length\":42.51748919530505},{\"hinges\":[2,4],\"length\":10.198039027185569}],\"driveCrank\":{\"centerHinge\":4,\"outsideHinge\":2,\"length\":10.198039027185569}}}]}')"
     ],
     "language": "python",
     "metadata": {},
     "outputs": [],
     "prompt_number": 3
    },
    {
     "cell_type": "code",
     "collapsed": false,
     "input": [
      "print run_stats"
     ],
     "language": "python",
     "metadata": {},
     "outputs": [
      {
       "output_type": "stream",
       "stream": "stdout",
       "text": [
        "{u'maxLinkChangePercent': 25, u'data': [{u'bestLinkage': {u'hinges': [{u'position': {u'y': 30.083373490970267, u'x': 17.26961436340427}, u'static': False}, {u'position': {u'y': 37.367678117414144, u'x': 0.8004853201903664}, u'static': False}, {u'position': {u'y': -1.8201615334290728, u'x': -9.851762090605524}, u'static': False}, {u'position': {u'y': 2, u'x': 14}, u'static': True}, {u'position': {u'y': -2, u'x': -20}, u'static': True}], u'driveCrank': {u'outsideHinge': 2, u'centerHinge': 4, u'length': 10.198039027185569}, u'links': [{u'hinges': [0, 2], u'length': 42.7009937693162}, {u'hinges': [3, 0], u'length': 28.0178514522438}, {u'hinges': [1, 0], u'length': 18.027756377319946}, {u'hinges': [1, 2], u'length': 41.23105625617661}, {u'hinges': [2, 4], u'length': 10.198039027185569}]}, u'avgFitness': 405.31517583185894, u'maxFitness': 413.33733747351954, u'minFitness': 397.29301419019833}, {u'bestLinkage': {u'hinges': [{u'position': {u'y': 30.083373490970267, u'x': 17.26961436340427}, u'static': False}, {u'position': {u'y': 37.367678117414144, u'x': 0.8004853201903664}, u'static': False}, {u'position': {u'y': -1.8201615334290728, u'x': -9.851762090605524}, u'static': False}, {u'position': {u'y': 2, u'x': 14}, u'static': True}, {u'position': {u'y': -2, u'x': -20}, u'static': True}], u'driveCrank': {u'outsideHinge': 2, u'centerHinge': 4, u'length': 10.198039027185569}, u'links': [{u'hinges': [0, 2], u'length': 42.7009937693162}, {u'hinges': [3, 0], u'length': 28.0178514522438}, {u'hinges': [1, 0], u'length': 18.027756377319946}, {u'hinges': [1, 2], u'length': 41.23105625617661}, {u'hinges': [2, 4], u'length': 10.198039027185569}]}, u'avgFitness': 100, u'maxFitness': 100, u'minFitness': 100}, {u'bestLinkage': {u'hinges': [{u'position': {u'y': 30.314380850966273, u'x': 14.0487175717693}, u'static': False}, {u'position': {u'y': 37.3543112245806, u'x': -2.527615439972841}, u'static': False}, {u'position': {u'y': -3.7747521925272953, u'x': -10.035164143999369}, u'static': False}, {u'position': {u'y': 2, u'x': 14}, u'static': True}, {u'position': {u'y': -2, u'x': -20}, u'static': True}], u'driveCrank': {u'outsideHinge': 2, u'centerHinge': 4, u'length': 10.198039027185569}, u'links': [{u'hinges': [0, 2], u'length': 42.7009937693162}, {u'hinges': [3, 0], u'length': 28.0178514522438}, {u'hinges': [1, 0], u'length': 18.027756377319946}, {u'hinges': [1, 2], u'length': 42.51748919530505}, {u'hinges': [2, 4], u'length': 10.198039027185569}]}, u'avgFitness': 417.30168968236194, u'maxFitness': 421.4905440369261, u'minFitness': 413.1128353277978}], u'numGenerations': 3, u'mutationRatePercent': 5, u'isHillClimbing': True, u'populationSize': 20, u'minLinkLength': 5}\n"
       ]
      }
     ],
     "prompt_number": 4
    },
    {
     "cell_type": "code",
     "collapsed": false,
     "input": [
      "print run_stats.keys()"
     ],
     "language": "python",
     "metadata": {},
     "outputs": [
      {
       "output_type": "stream",
       "stream": "stdout",
       "text": [
        "[u'maxLinkChangePercent', u'data', u'numGenerations', u'mutationRatePercent', u'isHillClimbing', u'populationSize', u'minLinkLength']\n"
       ]
      }
     ],
     "prompt_number": 5
    },
    {
     "cell_type": "code",
     "collapsed": false,
     "input": [
      "print len(run_stats['data'])\n",
      "run_stats['data']\n"
     ],
     "language": "python",
     "metadata": {},
     "outputs": [
      {
       "output_type": "stream",
       "stream": "stdout",
       "text": [
        "3\n"
       ]
      },
      {
       "metadata": {},
       "output_type": "pyout",
       "prompt_number": 9,
       "text": [
        "[{u'avgFitness': 405.31517583185894,\n",
        "  u'bestLinkage': {u'driveCrank': {u'centerHinge': 4,\n",
        "    u'length': 10.198039027185569,\n",
        "    u'outsideHinge': 2},\n",
        "   u'hinges': [{u'position': {u'x': 17.26961436340427,\n",
        "      u'y': 30.083373490970267},\n",
        "     u'static': False},\n",
        "    {u'position': {u'x': 0.8004853201903664, u'y': 37.367678117414144},\n",
        "     u'static': False},\n",
        "    {u'position': {u'x': -9.851762090605524, u'y': -1.8201615334290728},\n",
        "     u'static': False},\n",
        "    {u'position': {u'x': 14, u'y': 2}, u'static': True},\n",
        "    {u'position': {u'x': -20, u'y': -2}, u'static': True}],\n",
        "   u'links': [{u'hinges': [0, 2], u'length': 42.7009937693162},\n",
        "    {u'hinges': [3, 0], u'length': 28.0178514522438},\n",
        "    {u'hinges': [1, 0], u'length': 18.027756377319946},\n",
        "    {u'hinges': [1, 2], u'length': 41.23105625617661},\n",
        "    {u'hinges': [2, 4], u'length': 10.198039027185569}]},\n",
        "  u'maxFitness': 413.33733747351954,\n",
        "  u'minFitness': 397.29301419019833},\n",
        " {u'avgFitness': 100,\n",
        "  u'bestLinkage': {u'driveCrank': {u'centerHinge': 4,\n",
        "    u'length': 10.198039027185569,\n",
        "    u'outsideHinge': 2},\n",
        "   u'hinges': [{u'position': {u'x': 17.26961436340427,\n",
        "      u'y': 30.083373490970267},\n",
        "     u'static': False},\n",
        "    {u'position': {u'x': 0.8004853201903664, u'y': 37.367678117414144},\n",
        "     u'static': False},\n",
        "    {u'position': {u'x': -9.851762090605524, u'y': -1.8201615334290728},\n",
        "     u'static': False},\n",
        "    {u'position': {u'x': 14, u'y': 2}, u'static': True},\n",
        "    {u'position': {u'x': -20, u'y': -2}, u'static': True}],\n",
        "   u'links': [{u'hinges': [0, 2], u'length': 42.7009937693162},\n",
        "    {u'hinges': [3, 0], u'length': 28.0178514522438},\n",
        "    {u'hinges': [1, 0], u'length': 18.027756377319946},\n",
        "    {u'hinges': [1, 2], u'length': 41.23105625617661},\n",
        "    {u'hinges': [2, 4], u'length': 10.198039027185569}]},\n",
        "  u'maxFitness': 100,\n",
        "  u'minFitness': 100},\n",
        " {u'avgFitness': 417.30168968236194,\n",
        "  u'bestLinkage': {u'driveCrank': {u'centerHinge': 4,\n",
        "    u'length': 10.198039027185569,\n",
        "    u'outsideHinge': 2},\n",
        "   u'hinges': [{u'position': {u'x': 14.0487175717693,\n",
        "      u'y': 30.314380850966273},\n",
        "     u'static': False},\n",
        "    {u'position': {u'x': -2.527615439972841, u'y': 37.3543112245806},\n",
        "     u'static': False},\n",
        "    {u'position': {u'x': -10.035164143999369, u'y': -3.7747521925272953},\n",
        "     u'static': False},\n",
        "    {u'position': {u'x': 14, u'y': 2}, u'static': True},\n",
        "    {u'position': {u'x': -20, u'y': -2}, u'static': True}],\n",
        "   u'links': [{u'hinges': [0, 2], u'length': 42.7009937693162},\n",
        "    {u'hinges': [3, 0], u'length': 28.0178514522438},\n",
        "    {u'hinges': [1, 0], u'length': 18.027756377319946},\n",
        "    {u'hinges': [1, 2], u'length': 42.51748919530505},\n",
        "    {u'hinges': [2, 4], u'length': 10.198039027185569}]},\n",
        "  u'maxFitness': 421.4905440369261,\n",
        "  u'minFitness': 413.1128353277978}]"
       ]
      }
     ],
     "prompt_number": 9
    },
    {
     "cell_type": "code",
     "collapsed": false,
     "input": [
      "# avgs = []\n",
      "# maxs = []\n",
      "# mins = []\n",
      "\n",
      "allFitnesses = []\n",
      "\n",
      "for run in run_stats['data']:\n",
      "    \n",
      "    runs.append(run['allFitness'])\n",
      "    \n",
      "#     avgs.append(run['avgFitness'])\n",
      "#     maxs.append(run['maxFitness'])\n",
      "#     mins.append(run['minFitness'])\n",
      "#     print run.keys()\n",
      "#     print run['avgFitness']\n",
      "#     print run['maxFitness']\n",
      "#     print run['minFitness']\n",
      "#     break"
     ],
     "language": "python",
     "metadata": {},
     "outputs": [],
     "prompt_number": 12
    },
    {
     "cell_type": "code",
     "collapsed": false,
     "input": [
      "allFitnesses = [[1,2,3,4,5],[2,5,7,8,1],[3,4,7,1,2]]"
     ],
     "language": "python",
     "metadata": {},
     "outputs": [],
     "prompt_number": 14
    },
    {
     "cell_type": "code",
     "collapsed": false,
     "input": [
      "plt.boxplot(allFitnesses)\n",
      "remove_border()\n",
      "\n",
      "plt.xlabel(\"Run\")\n",
      "plt.ylabel(\"Fitness\")\n",
      "\n",
      "plt.title(\"Mutation rate hillClimbing populationSize\")\n",
      "\n",
      "# mutation rate, hillClimbing, populationSize,"
     ],
     "language": "python",
     "metadata": {},
     "outputs": [
      {
       "metadata": {},
       "output_type": "pyout",
       "prompt_number": 15,
       "text": [
        "<matplotlib.text.Text at 0x106499090>"
       ]
      },
      {
       "metadata": {},
       "output_type": "display_data",
       "png": "[encoded data removed]",
       "text": [
        "<matplotlib.figure.Figure at 0x106439dd0>"
       ]
      }
     ],
     "prompt_number": 15
    },
    {
     "cell_type": "code",
     "collapsed": false,
     "input": [],
     "language": "python",
     "metadata": {},
     "outputs": []
    }
   ],
   "metadata": {}
  }
 ]
}